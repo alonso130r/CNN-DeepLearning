{
  "nbformat": 4,
  "nbformat_minor": 0,
  "metadata": {
    "colab": {
      "provenance": []
    },
    "kernelspec": {
      "name": "python3",
      "display_name": "Python 3"
    },
    "language_info": {
      "name": "python"
    }
  },
  "cells": [
    {
      "cell_type": "code",
      "execution_count": 1,
      "metadata": {
        "id": "0m89gTPb1j17"
      },
      "outputs": [],
      "source": [
        "import tensorflow as tf\n",
        "from tensorflow import keras\n",
        "from keras.datasets import fashion_mnist\n",
        "from keras.models import Sequential, load_model\n",
        "from keras.layers import Dense, Dropout, Flatten\n",
        "from keras.layers import Conv2D, MaxPooling2D\n",
        "from keras import backend as k\n",
        "\n",
        "# to see the data plotted\n",
        "import numpy as np\n",
        "import matplotlib.pyplot as plt"
      ]
    },
    {
      "cell_type": "code",
      "source": [
        "# hyperparameters + load data\n",
        "\n",
        "# do not change unless train data changes\n",
        "num_classes = 10\n",
        "\n",
        "batch_size = 64\n",
        "epochs = 24\n",
        "img_rows, img_cols = 28, 28\n",
        "(x_train, y_train), (x_test, y_test) = fashion_mnist.load_data()\n",
        "model_path = 'model_param'"
      ],
      "metadata": {
        "id": "HUXhdjQ52G52",
        "colab": {
          "base_uri": "https://localhost:8080/"
        },
        "outputId": "87e38385-2265-4efc-c878-9e7f05de3a9c"
      },
      "execution_count": 2,
      "outputs": [
        {
          "output_type": "stream",
          "name": "stdout",
          "text": [
            "Downloading data from https://storage.googleapis.com/tensorflow/tf-keras-datasets/train-labels-idx1-ubyte.gz\n",
            "29515/29515 [==============================] - 0s 1us/step\n",
            "Downloading data from https://storage.googleapis.com/tensorflow/tf-keras-datasets/train-images-idx3-ubyte.gz\n",
            "26421880/26421880 [==============================] - 2s 0us/step\n",
            "Downloading data from https://storage.googleapis.com/tensorflow/tf-keras-datasets/t10k-labels-idx1-ubyte.gz\n",
            "5148/5148 [==============================] - 0s 0us/step\n",
            "Downloading data from https://storage.googleapis.com/tensorflow/tf-keras-datasets/t10k-images-idx3-ubyte.gz\n",
            "4422102/4422102 [==============================] - 1s 0us/step\n"
          ]
        }
      ]
    },
    {
      "cell_type": "code",
      "source": [
        "# reshape data\n",
        "x_train = x_train.reshape(x_train.shape[0], img_rows, img_cols, 1)\n",
        "x_test = x_test.reshape(x_test.shape[0], img_rows, img_cols, 1)\n",
        "input_shape = (img_rows, img_cols, 1)"
      ],
      "metadata": {
        "id": "Roltopy_nyET"
      },
      "execution_count": 3,
      "outputs": []
    },
    {
      "cell_type": "code",
      "source": [
        "# convert type + scale train/val data\n",
        "x_train = x_train.astype('float32')\n",
        "x_test = x_test.astype('float32')\n",
        "\n",
        "x_train /= 255.0\n",
        "x_test /= 255.0\n",
        "\n",
        "print(f\"x train shape: {x_train.shape}\")\n",
        "print(f\"x test shape: {x_test.shape}\")\n",
        "print(y_train[0:3])"
      ],
      "metadata": {
        "colab": {
          "base_uri": "https://localhost:8080/"
        },
        "id": "WFuRWxU5peT6",
        "outputId": "9f42d6ee-fd37-4378-c776-33545f3fc1c9"
      },
      "execution_count": 4,
      "outputs": [
        {
          "output_type": "stream",
          "name": "stdout",
          "text": [
            "x train shape: (60000, 28, 28, 1)\n",
            "x test shape: (10000, 28, 28, 1)\n",
            "[9 0 0]\n"
          ]
        }
      ]
    },
    {
      "cell_type": "code",
      "source": [
        "# convert class vectors to binary class matrices\n",
        "y_train = tf.keras.utils.to_categorical(y_train, num_classes)\n",
        "y_test = tf.keras.utils.to_categorical(y_test, num_classes)\n",
        "print(y_train[0:2]) # verify encoding"
      ],
      "metadata": {
        "colab": {
          "base_uri": "https://localhost:8080/"
        },
        "id": "aDm_dMkgq2kL",
        "outputId": "33a66deb-14c1-4d0b-f826-f7d42614e389"
      },
      "execution_count": 5,
      "outputs": [
        {
          "output_type": "stream",
          "name": "stdout",
          "text": [
            "[[0. 0. 0. 0. 0. 0. 0. 0. 0. 1.]\n",
            " [1. 0. 0. 0. 0. 0. 0. 0. 0. 0.]]\n"
          ]
        }
      ]
    },
    {
      "cell_type": "markdown",
      "source": [
        "# MODEL CODE STARTS HERE"
      ],
      "metadata": {
        "id": "_VGsfY-3rkRe"
      }
    },
    {
      "cell_type": "code",
      "source": [
        "# load model or create CNN\n",
        "try:\n",
        "  model = load_model(model_path)\n",
        "  print(\"Model loaded successfully\")\n",
        "except IOError as e:\n",
        "  # define model\n",
        "  model = Sequential()\n",
        "  model.add(Conv2D(32, kernel_size = (3, 3), activation = 'relu', input_shape = input_shape))\n",
        "  model.add(MaxPooling2D(pool_size = (2, 2)))\n",
        "  model.add(Conv2D(32, kernel_size = (3, 3), activation = 'relu'))\n",
        "  model.add(MaxPooling2D(pool_size = (2, 2)))\n",
        "  model.add(Flatten())\n",
        "  model.add(Dense(128, activation = 'relu'))\n",
        "  model.add(Dense(64, activation = 'relu'))\n",
        "  model.add(Dropout(0.5))\n",
        "  model.add(Dense(num_classes, activation = 'softmax'))\n",
        "  # define compile to minimize categorical loss, ada delta optimized, optimize to ensure max efficiency\n",
        "  model.compile(loss = keras.losses.categorical_crossentropy, optimizer = keras.optimizers.AdamW(), metrics = ['accuracy']) # change optimizer to adam if problems occur\n",
        "except Exception as e:\n",
        "  print(f\"Other exception encountered: {e}\")"
      ],
      "metadata": {
        "colab": {
          "base_uri": "https://localhost:8080/"
        },
        "id": "5-Ll7YPCry9k",
        "outputId": "930bb6d1-a5a8-4b62-e2ce-ca3d9ec7605b"
      },
      "execution_count": 12,
      "outputs": [
        {
          "output_type": "stream",
          "name": "stdout",
          "text": [
            "Model loaded successfully\n"
          ]
        }
      ]
    },
    {
      "cell_type": "code",
      "source": [
        "# train model and val the model after each epoch\n",
        "# return history of loss/accuracy per epoch\n",
        "hist = model.fit(x_train, y_train, batch_size = batch_size, epochs = epochs, verbose = 1, validation_data = (x_test, y_test))\n",
        "model.save(model_path)"
      ],
      "metadata": {
        "colab": {
          "base_uri": "https://localhost:8080/"
        },
        "id": "8CjRxTsNved0",
        "outputId": "dfe4cf34-2661-4397-991e-150eaba4b122"
      },
      "execution_count": 13,
      "outputs": [
        {
          "output_type": "stream",
          "name": "stdout",
          "text": [
            "Epoch 1/24\n",
            "938/938 [==============================] - 41s 42ms/step - loss: 0.0987 - accuracy: 0.9623 - val_loss: 0.3970 - val_accuracy: 0.9091\n",
            "Epoch 2/24\n",
            "938/938 [==============================] - 39s 42ms/step - loss: 0.0899 - accuracy: 0.9642 - val_loss: 0.3872 - val_accuracy: 0.9112\n",
            "Epoch 3/24\n",
            "938/938 [==============================] - 39s 42ms/step - loss: 0.0886 - accuracy: 0.9666 - val_loss: 0.4216 - val_accuracy: 0.9056\n",
            "Epoch 4/24\n",
            "938/938 [==============================] - 39s 41ms/step - loss: 0.0875 - accuracy: 0.9667 - val_loss: 0.3966 - val_accuracy: 0.9086\n",
            "Epoch 5/24\n",
            "938/938 [==============================] - 39s 41ms/step - loss: 0.0800 - accuracy: 0.9696 - val_loss: 0.4511 - val_accuracy: 0.9037\n",
            "Epoch 6/24\n",
            "938/938 [==============================] - 39s 41ms/step - loss: 0.0745 - accuracy: 0.9722 - val_loss: 0.4342 - val_accuracy: 0.9062\n",
            "Epoch 7/24\n",
            "938/938 [==============================] - 39s 42ms/step - loss: 0.0796 - accuracy: 0.9699 - val_loss: 0.4511 - val_accuracy: 0.9106\n",
            "Epoch 8/24\n",
            "938/938 [==============================] - 38s 41ms/step - loss: 0.0720 - accuracy: 0.9728 - val_loss: 0.4717 - val_accuracy: 0.9071\n",
            "Epoch 9/24\n",
            "938/938 [==============================] - 38s 41ms/step - loss: 0.0671 - accuracy: 0.9743 - val_loss: 0.5020 - val_accuracy: 0.9032\n",
            "Epoch 10/24\n",
            "938/938 [==============================] - 38s 41ms/step - loss: 0.0630 - accuracy: 0.9758 - val_loss: 0.4900 - val_accuracy: 0.9030\n",
            "Epoch 11/24\n",
            "938/938 [==============================] - 38s 41ms/step - loss: 0.0696 - accuracy: 0.9736 - val_loss: 0.4865 - val_accuracy: 0.9078\n",
            "Epoch 12/24\n",
            "938/938 [==============================] - 40s 42ms/step - loss: 0.0616 - accuracy: 0.9770 - val_loss: 0.5374 - val_accuracy: 0.9068\n",
            "Epoch 13/24\n",
            "938/938 [==============================] - 39s 42ms/step - loss: 0.0626 - accuracy: 0.9762 - val_loss: 0.5319 - val_accuracy: 0.9054\n",
            "Epoch 14/24\n",
            "938/938 [==============================] - 39s 42ms/step - loss: 0.0586 - accuracy: 0.9787 - val_loss: 0.5008 - val_accuracy: 0.9058\n",
            "Epoch 15/24\n",
            "938/938 [==============================] - 39s 42ms/step - loss: 0.0602 - accuracy: 0.9772 - val_loss: 0.5453 - val_accuracy: 0.9033\n",
            "Epoch 16/24\n",
            "938/938 [==============================] - 39s 42ms/step - loss: 0.0542 - accuracy: 0.9797 - val_loss: 0.5424 - val_accuracy: 0.9066\n",
            "Epoch 17/24\n",
            "938/938 [==============================] - 39s 42ms/step - loss: 0.0507 - accuracy: 0.9814 - val_loss: 0.5397 - val_accuracy: 0.9029\n",
            "Epoch 18/24\n",
            "938/938 [==============================] - 40s 42ms/step - loss: 0.0528 - accuracy: 0.9804 - val_loss: 0.5819 - val_accuracy: 0.9052\n",
            "Epoch 19/24\n",
            "938/938 [==============================] - 39s 41ms/step - loss: 0.0495 - accuracy: 0.9820 - val_loss: 0.6050 - val_accuracy: 0.9087\n",
            "Epoch 20/24\n",
            "938/938 [==============================] - 38s 41ms/step - loss: 0.0490 - accuracy: 0.9817 - val_loss: 0.6094 - val_accuracy: 0.9055\n",
            "Epoch 21/24\n",
            "938/938 [==============================] - 38s 40ms/step - loss: 0.0492 - accuracy: 0.9815 - val_loss: 0.5978 - val_accuracy: 0.9072\n",
            "Epoch 22/24\n",
            "938/938 [==============================] - 38s 41ms/step - loss: 0.0460 - accuracy: 0.9833 - val_loss: 0.6138 - val_accuracy: 0.9057\n",
            "Epoch 23/24\n",
            "938/938 [==============================] - 38s 40ms/step - loss: 0.0434 - accuracy: 0.9844 - val_loss: 0.5965 - val_accuracy: 0.9020\n",
            "Epoch 24/24\n",
            "938/938 [==============================] - 38s 40ms/step - loss: 0.0455 - accuracy: 0.9835 - val_loss: 0.6305 - val_accuracy: 0.9061\n"
          ]
        }
      ]
    },
    {
      "cell_type": "code",
      "source": [
        "# evaluate model with test data to get metrics on real data\n",
        "score = model.evaluate(x_test, y_test, verbose = 0)\n",
        "print(f\"Test loss: {score[0]}\")\n",
        "print(f\"Test accuracy: {score[1]}\")\n",
        "\n",
        "%matplotlib inline\n",
        "epoch_list = list(range(1, len(hist.history['accuracy']) + 1)) # x axis\n",
        "plt.plot(epoch_list, hist.history['accuracy'], epoch_list, hist.history['val_accuracy'])\n",
        "plt.legend(('Train Accuracy', 'Val Accuracy'))\n",
        "plt.show()"
      ],
      "metadata": {
        "colab": {
          "base_uri": "https://localhost:8080/",
          "height": 465
        },
        "id": "quTdYdYY0pXs",
        "outputId": "bee5a27c-a86d-40ea-839b-313778d4921e"
      },
      "execution_count": 14,
      "outputs": [
        {
          "output_type": "stream",
          "name": "stdout",
          "text": [
            "Test loss: 0.6304800510406494\n",
            "Test accuracy: 0.9060999751091003\n"
          ]
        },
        {
          "output_type": "display_data",
          "data": {
            "text/plain": [
              "<Figure size 640x480 with 1 Axes>"
            ],
            "image/png": "[encoded data removed]"
          },
          "metadata": {}
        }
      ]
    },
    {
      "cell_type": "code",
      "source": [
        "model.summary()"
      ],
      "metadata": {
        "colab": {
          "base_uri": "https://localhost:8080/"
        },
        "id": "JfOe0HTw-16y",
        "outputId": "d56e81d5-b1f7-4024-abc9-5256d64537cd"
      },
      "execution_count": 18,
      "outputs": [
        {
          "output_type": "stream",
          "name": "stdout",
          "text": [
            "Model: \"sequential\"\n",
            "_________________________________________________________________\n",
            " Layer (type)                Output Shape              Param #   \n",
            "=================================================================\n",
            " conv2d (Conv2D)             (None, 26, 26, 32)        320       \n",
            "                                                                 \n",
            " conv2d_1 (Conv2D)           (None, 24, 24, 32)        9248      \n",
            "                                                                 \n",
            " max_pooling2d (MaxPooling2  (None, 12, 12, 32)        0         \n",
            " D)                                                              \n",
            "                                                                 \n",
            " conv2d_2 (Conv2D)           (None, 10, 10, 32)        9248      \n",
            "                                                                 \n",
            " max_pooling2d_1 (MaxPoolin  (None, 5, 5, 32)          0         \n",
            " g2D)                                                            \n",
            "                                                                 \n",
            " flatten (Flatten)           (None, 800)               0         \n",
            "                                                                 \n",
            " dense (Dense)               (None, 128)               102528    \n",
            "                                                                 \n",
            " dense_1 (Dense)             (None, 64)                8256      \n",
            "                                                                 \n",
            " dense_2 (Dense)             (None, 10)                650       \n",
            "                                                                 \n",
            "=================================================================\n",
            "Total params: 130250 (508.79 KB)\n",
            "Trainable params: 130250 (508.79 KB)\n",
            "Non-trainable params: 0 (0.00 Byte)\n",
            "_________________________________________________________________\n"
          ]
        }
      ]
    },
    {
      "cell_type": "code",
      "source": [],
      "metadata": {
        "id": "yOge63wLCQ6r"
      },
      "execution_count": null,
      "outputs": []
    }
  ]
}