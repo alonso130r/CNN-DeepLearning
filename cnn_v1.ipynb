{
  "nbformat": 4,
  "nbformat_minor": 0,
  "metadata": {
    "colab": {
      "provenance": []
    },
    "kernelspec": {
      "name": "python3",
      "display_name": "Python 3"
    },
    "language_info": {
      "name": "python"
    }
  },
  "cells": [
    {
      "cell_type": "code",
      "execution_count": 16,
      "metadata": {
        "id": "0m89gTPb1j17"
      },
      "outputs": [],
      "source": [
        "import tensorflow as tf\n",
        "from tensorflow import keras\n",
        "from keras.datasets import fashion_mnist\n",
        "from keras.models import Sequential\n",
        "from keras.layers import Dense, Dropout, Flatten\n",
        "from keras.layers import Conv2D, MaxPooling2D\n",
        "from keras import backend as k\n",
        "\n",
        "# to see the data plotted\n",
        "import numpy as np\n",
        "import matplotlib.pyplot as plt"
      ]
    },
    {
      "cell_type": "code",
      "source": [
        "# hyperparameters + load data\n",
        "\n",
        "# do not change unless train data changes\n",
        "num_classes = 10\n",
        "\n",
        "batch_size = 64\n",
        "epochs = 24\n",
        "img_rows, img_cols = 28, 28\n",
        "(x_train, y_train), (x_test, y_test) = fashion_mnist.load_data()"
      ],
      "metadata": {
        "id": "HUXhdjQ52G52",
        "colab": {
          "base_uri": "https://localhost:8080/"
        },
        "outputId": "648f2e7f-2285-4ed3-dc90-63ff1919bc8d"
      },
      "execution_count": 3,
      "outputs": [
        {
          "output_type": "stream",
          "name": "stdout",
          "text": [
            "Downloading data from https://storage.googleapis.com/tensorflow/tf-keras-datasets/train-labels-idx1-ubyte.gz\n",
            "29515/29515 [==============================] - 0s 0us/step\n",
            "Downloading data from https://storage.googleapis.com/tensorflow/tf-keras-datasets/train-images-idx3-ubyte.gz\n",
            "26421880/26421880 [==============================] - 0s 0us/step\n",
            "Downloading data from https://storage.googleapis.com/tensorflow/tf-keras-datasets/t10k-labels-idx1-ubyte.gz\n",
            "5148/5148 [==============================] - 0s 0us/step\n",
            "Downloading data from https://storage.googleapis.com/tensorflow/tf-keras-datasets/t10k-images-idx3-ubyte.gz\n",
            "4422102/4422102 [==============================] - 0s 0us/step\n"
          ]
        }
      ]
    },
    {
      "cell_type": "code",
      "source": [
        "# reshape data\n",
        "x_train = x_train.reshape(x_train.shape[0], img_rows, img_cols, 1)\n",
        "x_test = x_test.reshape(x_test.shape[0], img_rows, img_cols, 1)\n",
        "input_shape = (img_rows, img_cols, 1)"
      ],
      "metadata": {
        "id": "Roltopy_nyET"
      },
      "execution_count": 7,
      "outputs": []
    },
    {
      "cell_type": "code",
      "source": [
        "# convert type + scale train/val data\n",
        "x_train = x_train.astype('float32')\n",
        "x_test = x_test.astype('float32')\n",
        "\n",
        "x_train /= 255.0\n",
        "x_test /= 255.0\n",
        "\n",
        "print(f\"x train shape: {x_train.shape}\")\n",
        "print(f\"x test shape: {x_test.shape}\")\n",
        "print(y_train[0:3])"
      ],
      "metadata": {
        "colab": {
          "base_uri": "https://localhost:8080/"
        },
        "id": "WFuRWxU5peT6",
        "outputId": "f343277c-1cea-4b8c-cb12-611254377d0d"
      },
      "execution_count": 9,
      "outputs": [
        {
          "output_type": "stream",
          "name": "stdout",
          "text": [
            "x train shape: (60000, 28, 28, 1)\n",
            "x test shape: (10000, 28, 28, 1)\n",
            "[9 0 0]\n"
          ]
        }
      ]
    },
    {
      "cell_type": "code",
      "source": [
        "# convert class vectors to binary class matrices\n",
        "y_train = tf.keras.utils.to_categorical(y_train, num_classes)\n",
        "y_test = tf.keras.utils.to_categorical(y_test, num_classes)\n",
        "print(y_train[0:2]) # verify encoding"
      ],
      "metadata": {
        "colab": {
          "base_uri": "https://localhost:8080/"
        },
        "id": "aDm_dMkgq2kL",
        "outputId": "c25b3aa9-1f07-4867-ecd1-8ac256b4499d"
      },
      "execution_count": 10,
      "outputs": [
        {
          "output_type": "stream",
          "name": "stdout",
          "text": [
            "[[0. 0. 0. 0. 0. 0. 0. 0. 0. 1.]\n",
            " [1. 0. 0. 0. 0. 0. 0. 0. 0. 0.]]\n"
          ]
        }
      ]
    },
    {
      "cell_type": "markdown",
      "source": [
        "# MODEL CODE STARTS HERE"
      ],
      "metadata": {
        "id": "_VGsfY-3rkRe"
      }
    },
    {
      "cell_type": "code",
      "source": [
        "# define model\n",
        "model = Sequential()"
      ],
      "metadata": {
        "id": "c9PmXXCFraSe"
      },
      "execution_count": 11,
      "outputs": []
    },
    {
      "cell_type": "code",
      "source": [
        "# create CNN\n",
        "model.add(Conv2D(32, kernel_size = (3, 3), activation = 'relu', input_shape = input_shape))\n",
        "model.add(MaxPooling2D(pool_size = (2, 2)))\n",
        "model.add(Conv2D(32, kernel_size = (3, 3), activation = 'relu'))\n",
        "model.add(MaxPooling2D(pool_size = (2, 2)))\n",
        "model.add(Flatten())\n",
        "model.add(Dense(128, activation = 'relu'))\n",
        "model.add(Dense(64, activation = 'relu'))\n",
        "#model.add(Dropout(0.5))\n",
        "model.add(Dense(num_classes, activation = 'softmax'))"
      ],
      "metadata": {
        "id": "5-Ll7YPCry9k"
      },
      "execution_count": 14,
      "outputs": []
    },
    {
      "cell_type": "code",
      "source": [
        "# define compile to minimize categorical loss, ada delta optimized, optimize to ensure max efficiency\n",
        "\n",
        "model.compile(loss = keras.losses.categorical_crossentropy, optimizer = keras.optimizers.AdamW(), metrics = ['accuracy']) # change optimizer to adam if problems occur\n",
        "\n",
        "# train model and val the model after each epoch\n",
        "# return history of loss/accuracy per epoch\n",
        "hist = model.fit(x_train, y_train, batch_size = batch_size, epochs = epochs, verbose = 1, validation_data = (x_test, y_test))"
      ],
      "metadata": {
        "colab": {
          "base_uri": "https://localhost:8080/"
        },
        "id": "8CjRxTsNved0",
        "outputId": "cb955a88-fcec-43e3-f8ad-2a88f03a5ccf"
      },
      "execution_count": 15,
      "outputs": [
        {
          "output_type": "stream",
          "name": "stdout",
          "text": [
            "Epoch 1/24\n",
            "938/938 [==============================] - 96s 101ms/step - loss: 1.1963 - accuracy: 0.5382 - val_loss: 0.6588 - val_accuracy: 0.7493\n",
            "Epoch 2/24\n",
            "938/938 [==============================] - 92s 98ms/step - loss: 0.5629 - accuracy: 0.7826 - val_loss: 0.5436 - val_accuracy: 0.7830\n",
            "Epoch 3/24\n",
            "938/938 [==============================] - 93s 99ms/step - loss: 0.4890 - accuracy: 0.8155 - val_loss: 0.4873 - val_accuracy: 0.8223\n",
            "Epoch 4/24\n",
            "938/938 [==============================] - 94s 100ms/step - loss: 0.4474 - accuracy: 0.8350 - val_loss: 0.4482 - val_accuracy: 0.8338\n",
            "Epoch 5/24\n",
            "938/938 [==============================] - 128s 137ms/step - loss: 0.4185 - accuracy: 0.8444 - val_loss: 0.4254 - val_accuracy: 0.8483\n",
            "Epoch 6/24\n",
            "938/938 [==============================] - 132s 141ms/step - loss: 0.3983 - accuracy: 0.8527 - val_loss: 0.4101 - val_accuracy: 0.8511\n",
            "Epoch 7/24\n",
            "938/938 [==============================] - 122s 130ms/step - loss: 0.3823 - accuracy: 0.8589 - val_loss: 0.3934 - val_accuracy: 0.8569\n",
            "Epoch 8/24\n",
            "938/938 [==============================] - 94s 101ms/step - loss: 0.3650 - accuracy: 0.8655 - val_loss: 0.3843 - val_accuracy: 0.8611\n",
            "Epoch 9/24\n",
            "938/938 [==============================] - 94s 100ms/step - loss: 0.3513 - accuracy: 0.8708 - val_loss: 0.3789 - val_accuracy: 0.8631\n",
            "Epoch 10/24\n",
            "938/938 [==============================] - 91s 97ms/step - loss: 0.3414 - accuracy: 0.8732 - val_loss: 0.3630 - val_accuracy: 0.8694\n",
            "Epoch 11/24\n",
            "938/938 [==============================] - 92s 99ms/step - loss: 0.3304 - accuracy: 0.8780 - val_loss: 0.3742 - val_accuracy: 0.8607\n",
            "Epoch 12/24\n",
            "938/938 [==============================] - 91s 97ms/step - loss: 0.3223 - accuracy: 0.8794 - val_loss: 0.3603 - val_accuracy: 0.8661\n",
            "Epoch 13/24\n",
            "938/938 [==============================] - 90s 96ms/step - loss: 0.3126 - accuracy: 0.8856 - val_loss: 0.3366 - val_accuracy: 0.8767\n",
            "Epoch 14/24\n",
            "938/938 [==============================] - 91s 97ms/step - loss: 0.3069 - accuracy: 0.8857 - val_loss: 0.3427 - val_accuracy: 0.8750\n",
            "Epoch 15/24\n",
            "938/938 [==============================] - 91s 97ms/step - loss: 0.2992 - accuracy: 0.8902 - val_loss: 0.3382 - val_accuracy: 0.8779\n",
            "Epoch 16/24\n",
            "938/938 [==============================] - 92s 98ms/step - loss: 0.2907 - accuracy: 0.8920 - val_loss: 0.3259 - val_accuracy: 0.8819\n",
            "Epoch 17/24\n",
            "938/938 [==============================] - 92s 98ms/step - loss: 0.2856 - accuracy: 0.8943 - val_loss: 0.3284 - val_accuracy: 0.8817\n",
            "Epoch 18/24\n",
            "938/938 [==============================] - 91s 97ms/step - loss: 0.2788 - accuracy: 0.8955 - val_loss: 0.3240 - val_accuracy: 0.8827\n",
            "Epoch 19/24\n",
            "938/938 [==============================] - 92s 98ms/step - loss: 0.2736 - accuracy: 0.8984 - val_loss: 0.3430 - val_accuracy: 0.8716\n",
            "Epoch 20/24\n",
            "938/938 [==============================] - 92s 98ms/step - loss: 0.2675 - accuracy: 0.8999 - val_loss: 0.3288 - val_accuracy: 0.8813\n",
            "Epoch 21/24\n",
            "938/938 [==============================] - 93s 99ms/step - loss: 0.2643 - accuracy: 0.9018 - val_loss: 0.3278 - val_accuracy: 0.8796\n",
            "Epoch 22/24\n",
            "938/938 [==============================] - 92s 98ms/step - loss: 0.2578 - accuracy: 0.9039 - val_loss: 0.3188 - val_accuracy: 0.8864\n",
            "Epoch 23/24\n",
            "938/938 [==============================] - 91s 97ms/step - loss: 0.2511 - accuracy: 0.9057 - val_loss: 0.3191 - val_accuracy: 0.8852\n",
            "Epoch 24/24\n",
            "938/938 [==============================] - 91s 97ms/step - loss: 0.2509 - accuracy: 0.9050 - val_loss: 0.3157 - val_accuracy: 0.8866\n"
          ]
        }
      ]
    },
    {
      "cell_type": "code",
      "source": [
        "# evaluate model with test data to get metrics on real data\n",
        "score = model.evaluate(x_test, y_test, verbose = 0)\n",
        "print(f\"Test loss: {score[0]}\")\n",
        "print(f\"Test accuracy: {score[1]}\")\n",
        "\n",
        "%matplotlib inline\n",
        "epoch_list = list(range(1, len(hist.history['accuracy']) + 1)) # x axis\n",
        "plt.plot(epoch_list, hist.history['accuracy'], epoch_list, hist.history['val_accuracy'])\n",
        "plt.legend(('Train Accuracy', 'Val Accuracy'))\n",
        "plt.show()"
      ],
      "metadata": {
        "colab": {
          "base_uri": "https://localhost:8080/",
          "height": 465
        },
        "id": "quTdYdYY0pXs",
        "outputId": "a5596d4e-f8e1-4130-af94-2604ea56c0cc"
      },
      "execution_count": 17,
      "outputs": [
        {
          "output_type": "stream",
          "name": "stdout",
          "text": [
            "Test loss: 0.3156927824020386\n",
            "Test accuracy: 0.8866000175476074\n"
          ]
        },
        {
          "output_type": "display_data",
          "data": {
            "text/plain": [
              "<Figure size 640x480 with 1 Axes>"
            ],
            "image/png": "[encoded data removed]"
          },
          "metadata": {}
        }
      ]
    },
    {
      "cell_type": "code",
      "source": [
        "model.summary()"
      ],
      "metadata": {
        "colab": {
          "base_uri": "https://localhost:8080/"
        },
        "id": "JfOe0HTw-16y",
        "outputId": "d56e81d5-b1f7-4024-abc9-5256d64537cd"
      },
      "execution_count": 18,
      "outputs": [
        {
          "output_type": "stream",
          "name": "stdout",
          "text": [
            "Model: \"sequential\"\n",
            "_________________________________________________________________\n",
            " Layer (type)                Output Shape              Param #   \n",
            "=================================================================\n",
            " conv2d (Conv2D)             (None, 26, 26, 32)        320       \n",
            "                                                                 \n",
            " conv2d_1 (Conv2D)           (None, 24, 24, 32)        9248      \n",
            "                                                                 \n",
            " max_pooling2d (MaxPooling2  (None, 12, 12, 32)        0         \n",
            " D)                                                              \n",
            "                                                                 \n",
            " conv2d_2 (Conv2D)           (None, 10, 10, 32)        9248      \n",
            "                                                                 \n",
            " max_pooling2d_1 (MaxPoolin  (None, 5, 5, 32)          0         \n",
            " g2D)                                                            \n",
            "                                                                 \n",
            " flatten (Flatten)           (None, 800)               0         \n",
            "                                                                 \n",
            " dense (Dense)               (None, 128)               102528    \n",
            "                                                                 \n",
            " dense_1 (Dense)             (None, 64)                8256      \n",
            "                                                                 \n",
            " dense_2 (Dense)             (None, 10)                650       \n",
            "                                                                 \n",
            "=================================================================\n",
            "Total params: 130250 (508.79 KB)\n",
            "Trainable params: 130250 (508.79 KB)\n",
            "Non-trainable params: 0 (0.00 Byte)\n",
            "_________________________________________________________________\n"
          ]
        }
      ]
    },
    {
      "cell_type": "code",
      "source": [],
      "metadata": {
        "id": "kcgu4Qs1_C_d"
      },
      "execution_count": null,
      "outputs": []
    }
  ]
}